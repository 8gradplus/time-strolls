{
 "cells": [
  {
   "cell_type": "code",
   "execution_count": null,
   "id": "8d656d5a-f72c-49f3-86fc-424727ccff09",
   "metadata": {},
   "outputs": [],
   "source": [
    "import sys\n",
    "import cv2\n",
    "import numpy as np\n",
    "from rasterio import Affine\n",
    "sys.path.append('../backend')\n",
    "%load_ext autoreload\n",
    "%autoreload 2\n",
    "from transform.coordinates import get_affine_transform\n",
    "from transform.coordinates import to_web_mercator\n",
    "from extract.extract import get_coordinates\n",
    "from extract.extract import read_image\n",
    "from transform.geotiff import geotiff\n",
    "from transform.tiles import create_tiles\n",
    "from matplotlib import pyplot as plt\n",
    "from rasterio.shutil import copy"
   ]
  },
  {
   "cell_type": "code",
   "execution_count": null,
   "id": "e9680f2e-47d1-4599-b7ec-52d7380625c0",
   "metadata": {},
   "outputs": [],
   "source": [
    "IMAGE_PATH = '../resources/us-army-1945.jpeg'\n",
    "\n",
    "# lat / lon convention!\n",
    "LANDMARKS = {\n",
    "    'Kirche St. Oswald': {         \n",
    "        'pixel': (286, 2125),\n",
    "        'gps': (48.619095, 14.030765)\n",
    "    },\n",
    "    'Laher Unteruresch': {\n",
    "        'pixel': (863, 2610) , \n",
    "        'gps': (48.61017854015886, 14.04406485511563) ,\n",
    "                },\n",
    "    'Ruine Wittinghausen': {\n",
    "        'pixel': (2919, 143),\n",
    "        'gps': (48.64500581431426, 14.103290101060226),\n",
    "              }, \n",
    "}"
   ]
  },
  {
   "cell_type": "code",
   "execution_count": null,
   "id": "51274fd1-32d9-44d1-ad40-c25ca9c0a545",
   "metadata": {},
   "outputs": [],
   "source": [
    "pixel, gps = get_coordinates(LANDMARKS)\n",
    "meters = to_web_mercator(gps)\n",
    "A = get_affine_transform(pixel, meters)\n",
    "tif = geotiff(read_image(IMAGE_PATH), A)"
   ]
  },
  {
   "cell_type": "code",
   "execution_count": null,
   "id": "ab9d9817-6d5f-4411-8602-efe0f5dd03e3",
   "metadata": {},
   "outputs": [],
   "source": [
    "from rasterio.plot import show\n",
    "with tif.open() as dataset:\n",
    "    fig, ax = plt.subplots()\n",
    "    show(dataset, ax)"
   ]
  },
  {
   "cell_type": "code",
   "execution_count": null,
   "id": "59f0dee9-c54b-4177-87aa-e011e974bd55",
   "metadata": {},
   "outputs": [],
   "source": [
    "from main import *\n",
    "#Map(clear_directory)((STATIC_AUDIO_PATH, STATIC_TILES_PATH, STATIC_TOPOTHEK_PATH))\n",
    "#binary_copy_file(AUDIO_PATH, STATIC_AUDIO_PATH + '/test.mp3')\n",
    "#Pipe(crawl, Map(Download(STATIC_TOPOTHEK_PATH)))(EXAMPLE_TOPOTHEK_URL)\n",
    "#create_raster_tif()"
   ]
  },
  {
   "cell_type": "code",
   "execution_count": null,
   "id": "80aec134-2522-4551-9372-34fd6d935a2c",
   "metadata": {},
   "outputs": [],
   "source": [
    "STATIC_TOPOTHEK_PATH"
   ]
  },
  {
   "cell_type": "code",
   "execution_count": null,
   "id": "0f160867-dade-4b64-b649-f92f7155483e",
   "metadata": {},
   "outputs": [],
   "source": [
    "from helpers.fs import download\n",
    "\n",
    "url = 'https://lichtenau.topothek.at/data/Lichtenau301/files3363/file840955.jpg?1663488311'\n",
    "image, _ = download(url)"
   ]
  },
  {
   "cell_type": "code",
   "execution_count": null,
   "id": "b3c5bb49-094f-4b15-978e-0787d67f1b80",
   "metadata": {},
   "outputs": [],
   "source": [
    "from io import BytesIO\n",
    "from PIL import Image\n",
    "buffer=Image.open(BytesIO(image))\n",
    "webp_io = BytesIO()\n",
    "buffer.save(webp_io, format=\"WEBP\", quality=80, method=6)\n",
    "webp_bytes = webp_io.getvalue()\n",
    "with open('test.webp', 'wb') as f:\n",
    "    f.write(webp_bytes)"
   ]
  },
  {
   "cell_type": "code",
   "execution_count": 3,
   "id": "ca9d65a0-305d-4e69-8d10-6174f764f86f",
   "metadata": {},
   "outputs": [
    {
     "ename": "UnidentifiedImageError",
     "evalue": "cannot identify image file <_io.BytesIO object at 0x107714680>",
     "output_type": "error",
     "traceback": [
      "\u001b[31m---------------------------------------------------------------------------\u001b[39m",
      "\u001b[31mUnidentifiedImageError\u001b[39m                    Traceback (most recent call last)",
      "\u001b[36mCell\u001b[39m\u001b[36m \u001b[39m\u001b[32mIn[3]\u001b[39m\u001b[32m, line 9\u001b[39m\n\u001b[32m      6\u001b[39m url = \u001b[33m\"\u001b[39m\u001b[33mhttps://debtray.fra1.cdn.digitaloceanspaces.com/test/timestrolls/file430410.jpg\u001b[39m\u001b[33m\"\u001b[39m\n\u001b[32m      8\u001b[39m response = requests.get(url)\n\u001b[32m----> \u001b[39m\u001b[32m9\u001b[39m img = \u001b[43mImage\u001b[49m\u001b[43m.\u001b[49m\u001b[43mopen\u001b[49m\u001b[43m(\u001b[49m\u001b[43mBytesIO\u001b[49m\u001b[43m(\u001b[49m\u001b[43mresponse\u001b[49m\u001b[43m.\u001b[49m\u001b[43mcontent\u001b[49m\u001b[43m)\u001b[49m\u001b[43m)\u001b[49m\n\u001b[32m     10\u001b[39m img\n",
      "\u001b[36mFile \u001b[39m\u001b[32m~/.pyenv/versions/3.12.9/envs/time-strolls/lib/python3.12/site-packages/PIL/Image.py:3572\u001b[39m, in \u001b[36mopen\u001b[39m\u001b[34m(fp, mode, formats)\u001b[39m\n\u001b[32m   3570\u001b[39m     warnings.warn(message)\n\u001b[32m   3571\u001b[39m msg = \u001b[33m\"\u001b[39m\u001b[33mcannot identify image file \u001b[39m\u001b[38;5;132;01m%r\u001b[39;00m\u001b[33m\"\u001b[39m % (filename \u001b[38;5;28;01mif\u001b[39;00m filename \u001b[38;5;28;01melse\u001b[39;00m fp)\n\u001b[32m-> \u001b[39m\u001b[32m3572\u001b[39m \u001b[38;5;28;01mraise\u001b[39;00m UnidentifiedImageError(msg)\n",
      "\u001b[31mUnidentifiedImageError\u001b[39m: cannot identify image file <_io.BytesIO object at 0x107714680>"
     ]
    }
   ],
   "source": [
    "import requests\n",
    "from PIL import Image\n",
    "from io import BytesIO\n",
    "\n",
    "\n",
    "url = \"https://debtray.fra1.cdn.digitaloceanspaces.com/test/timestrolls/file430410.jpg\"\n",
    "\n",
    "response = requests.get(url)\n",
    "\n",
    "img = Image.open(BytesIO(response.content))\n",
    "img"
   ]
  },
  {
   "cell_type": "code",
   "execution_count": 4,
   "id": "12b49fe5-2c97-42dc-a4b3-d673d17cee4a",
   "metadata": {},
   "outputs": [
    {
     "data": {
      "text/plain": [
       "403"
      ]
     },
     "execution_count": 4,
     "metadata": {},
     "output_type": "execute_result"
    }
   ],
   "source": [
    "response.status_code"
   ]
  },
  {
   "cell_type": "code",
   "execution_count": null,
   "id": "f0943f70-8cb3-4ebf-8385-b6b6bffce023",
   "metadata": {},
   "outputs": [],
   "source": []
  }
 ],
 "metadata": {
  "kernelspec": {
   "display_name": "Python 3 (ipykernel)",
   "language": "python",
   "name": "python3"
  },
  "language_info": {
   "codemirror_mode": {
    "name": "ipython",
    "version": 3
   },
   "file_extension": ".py",
   "mimetype": "text/x-python",
   "name": "python",
   "nbconvert_exporter": "python",
   "pygments_lexer": "ipython3",
   "version": "3.12.9"
  }
 },
 "nbformat": 4,
 "nbformat_minor": 5
}
