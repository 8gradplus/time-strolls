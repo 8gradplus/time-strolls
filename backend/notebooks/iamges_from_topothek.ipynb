{
 "cells": [
  {
   "cell_type": "code",
   "execution_count": 1,
   "id": "4b292150-92da-4662-9622-924aa328e34c",
   "metadata": {},
   "outputs": [],
   "source": [
    "import sys\n",
    "sys.path.append('..')\n",
    "%load_ext autoreload\n",
    "%autoreload 2\n",
    "\n",
    "# Todo install chromedriver on the docker file \n",
    "# (Currently i install it with prew)\n",
    "\n",
    "# Image ulr in meta tag:\n",
    "#<meta property=\"og:image\" content=\"https://deutsch-reichenau.topothek.at/data/Deutsch_Reichenau428/files2970/file742582.jpg\">"
   ]
  },
  {
   "cell_type": "code",
   "execution_count": 3,
   "id": "b721c03a-a9fe-41e7-9045-ab377e5f59b7",
   "metadata": {},
   "outputs": [],
   "source": [
    "from topothek.crawl import crawl_document, get_driver\n",
    "url = 'https://deutsch-reichenau.topothek.at/?doc=742582'\n"
   ]
  },
  {
   "cell_type": "code",
   "execution_count": 4,
   "id": "c938dd97-a309-488a-82b2-d1bd4339d5fd",
   "metadata": {},
   "outputs": [],
   "source": [
    "x = crawl_document(url)"
   ]
  },
  {
   "cell_type": "code",
   "execution_count": 5,
   "id": "6073f250-85db-4a18-9c2f-3bac6240a70b",
   "metadata": {},
   "outputs": [
    {
     "name": "stdout",
     "output_type": "stream",
     "text": [
      "=====LINK https://deutsch-reichenau.topothek.at/?doc=742582 \n",
      "document_url=HttpUrl('https://deutsch-reichenau.topothek.at/?doc=742582') document_id='0742582' url=HttpUrl('https://deutsch-reichenau.topothek.at/data/Deutsch_Reichenau428/files2970/file742582.jpg') title='Hinterberger Karl und Anna vulgo Jågl-Kårl Oberuresch 3 und Laher Ludwig vulgo Wenderl Oberuresch 2 - Bildaufnahme im Jahre 1945' description='Karl Hinterberger und Anna, geb. Hinterberger, vulgo Jågl-Kårl aus Oberuresch Nr. 3 und Ludwig Laher, vulgo Wenderl, aus Oberuresch Nr. 2. Anna Hinterberger, vulgo Jågl-Nanni, wurde am 19. Juli 1882 als eheliche Tochter von Jakob Hinterberger (1832 - 1912) aus Oberuresch Nr. 3 und dessen 2. Ehefrau Johanna, geb. Wagner (1844 - 1913), geboren. Ihre Mutter erblickte in Kirchschlag Nr. 42, Pfarre Kirchschlag in Böhmen das Licht der Welt. Der Hausname Jågl weist auf den Vornamen ihres Vaters hin, welcher Jakob hieß und der in unserer Böhmerwaldheimat mit Jågl ausgesprochen wurde. Anna Hinterberger ehelichte am 9. Februar 1904 Karl Hinterberger aus Sattlling Nr. 5, Pfarre St. Oswald bei Haslach. Dieser wurde am 26. Oktober 1978 in Sattling Nr. 5 als unehelicher Sohn der Theresia Hinterberger geboren. Deren Vater Johann war Häusler in Sattling Nr. 5 und war ein weichender Bauerssohn aus Unterurasch Nr. 1. Aus der Ehe von Karl und Anna Hinterberger stammen sechs Kinder: Die älteste Tochter Anna, geb. 1904, starb kurz nach der Geburt. Maria, geb. 1906, ehelichte Josef Kitzberger aus St. Stefan und war Besitzerin des bäuerlichen Anwesens in Perwolfing Nr. 7, Pfarre Rohrbach {540324} Sie starb aber bereits am 6. Jänner 1948 bei der Geburt eines Kindes. Rudolf (1908 - 1945), Karl (1910 - 1994), Leopold (1911 - 1981) Hugo (1921 - 1995) Karl und Anna Hinterberger durften als österreichische Staatsbürger nicht vertrieben werden. Sie lebten bei ihrem jüngsten Sohn Hugo in Putzleinsdorf, wo sie 1954 bzw. 1957 verstarben. Diese Bildaufnahme, wo auch der Nachbar, Ludwig Laher, vulgo Wenderl, aus Oberuresch Nr. 2 bildlich festgehalten ist, entstand im Jahre 1945 vor dem Jågl-Kårl-Haus in Oberuresch Nr. 3. Siehe auch Bild Nr. {742589} ' owner='Franz Bertlwieser' year=1945\n",
      "=====LINK https://deutsch-reichenau.topothek.at/?doc=742432 \n",
      "document_url=HttpUrl('https://deutsch-reichenau.topothek.at/?doc=742432') document_id='0742432' url=HttpUrl('https://deutsch-reichenau.topothek.at/data/Deutsch_Reichenau428/files2969/file742432.jpg') title='Blick von Oberuresch über das tiefer gelegene Unterurasch und Mühltal hinweg bis zum Michaelsberg - Bildaufnahme im Jahre 1935' description='Blick von Oberuresch über das tiefer gelegene Unterurasch und Mühltal hinweg bis zum Michaelsberg. Sehr schöne Bildaufnahme, welche die Gschwåner-Leute, Georg und Josefa Stelzer, geb. Mandl, aus Oberuresch 12, beim Ackern zeigt. Es wird auf diesem Bild auch festgehalten, wie nahe die angrenzenden Nachbarn im Mühlviertel waren. Vor der Errichtung des Eisernen Vorhanges zogen die Wenderl-Leute, Ludwig und Aloisia Laher, geb. Prieschl, aus Oberuresch Nr. 2, auf das Elternhaus von Ludwig Laher in Unterurasch Nr. 1 (Bauernhaus rechts im Bild). ' owner='Franz Bertlwieser' year=1935\n",
      "=====LINK https://deutsch-reichenau.topothek.at/?doc=741744 \n",
      "document_url=HttpUrl('https://deutsch-reichenau.topothek.at/?doc=741744') document_id='0741744' url=HttpUrl('https://deutsch-reichenau.topothek.at/data/Deutsch_Reichenau428/files2966/file741744.jpg') title='Friedlich am Hålmlus grasende Kühe die Ludwig und Aloisia Laher (Wenderl) in Oberuresch 2 gehörten - Bildaufnahme im Jahre 1943' description='Friedlich am Hålmlus grasende Kühe die Ludwig und Aloisia Laher (Wenderl) in Oberuresch 2 gehörten. Siehe auch Bild Nr. {741715}, wo die Wenderl-Leute beim Viehhüten, gemeinsam mit der polnischen Zwangsarbeiterin Sofie Lech abgebildet sind. ' owner='Franz Bertlwieser' year=1943\n",
      "=====LINK https://deutsch-reichenau.topothek.at/?doc=651318 \n",
      "document_url=HttpUrl('https://deutsch-reichenau.topothek.at/?doc=651318') document_id='0651318' url=HttpUrl('https://deutsch-reichenau.topothek.at/data/Deutsch_Reichenau428/files2605/file651318.jpg') title='Romantischer Blick auf das Bå-Schneider-Häusl in Oberuresch 15 - Welche Personen stehen vorm Haus? - Bildaufnahme um 1910' description='Romantischer Blick auf das Bå-Schneider-Häusl in Oberuresch 15. Besitzer des Anwesens in Oberuresch Nr. 15 war bis zu seinem Tode Johann Traxler (1843 - 1915). Bei seinem Sterbeeintrag vermerkte Dechant Vinzenz Gross: ' owner='Franz Bertlwieser' year=1910\n",
      "=====LINK https://deutsch-reichenau.topothek.at/?doc=523740 \n",
      "document_url=HttpUrl('https://deutsch-reichenau.topothek.at/?doc=523740') document_id='0523740' url=HttpUrl('https://deutsch-reichenau.topothek.at/data/Deutsch_Reichenau428/files2094/file523740.jpg') title='Das Anwesen von Jakob Hinterberger und Johanna geb. Wagner (Jågl-Kårl) Oberuresch Nr. 3 - um 1900 - Bildaufnahme um 1900' description='Das bäuerliche Anwesen von Jakob Hinterberger und Johanna geb. Wagner (Jågl-Kårl) Oberuresch Nr. 3 - um 1900. Der Hausname Jågl-Kårl leitet sich von den Vornamen der beiden Besitzer - Jakob Hinterberger (Jågl) und dessen Sohn Karl, welcher nach ihm das Haus übernahm, ab.' owner='Franz Bertlwieser' year=1900\n",
      "=====LINK https://deutsch-reichenau.topothek.at/?doc=499826 \n",
      "document_url=HttpUrl('https://deutsch-reichenau.topothek.at/?doc=499826') document_id='0499826' url=HttpUrl('https://deutsch-reichenau.topothek.at/data/Deutsch_Reichenau428/files1999/file499826.jpg') title='Winter in Oberuresch - Gregern-Haus (Nr. 1) Wenderl-Haus (Nr. 2) Jågl-Kårl-Haus (Nr. 3) und Kapelle - Bildaufnahme im Jahre 1905' description='Tiefer Winter in Oberuresch. Diese Bildaufnahme entstand im Winter 1905. Rechts das Gregern-Haus (Oberuresch Nr. 1) dahinter das Wenderl-Haus (Oberuresch Nr. 2) anschließend das Jågl-Kårl-Haus (Oberuresch Nr. 3) und vis a vis die Dorfkapelle (links im Bild). Rechts vorne erkennt man das Bauernhaus der Familie Watzl, vulgo Gregern. Die Urvorfahren stammen von der Holzmühle in Multerberg Nr. 23 ab. Dahinter ist das Haus der Familie Prieschl, vulgo Wenderl. Kaspar Prieschl, war ein weichender Sohn vom Stratbaun-Haus und heiratete am 30. Jänner 1876 Anna Naderer aus Oberuresch Nr. 2. Der Hausname Wenderl weist auf den Vorfahren Wendelin Naderer hin, welcher am 20.10.1787 in Oberuresch Nr. 2 geboren wurde und am 26.02.1863 in Oberuresch Nr. 2 starb. Linker Hand schließt das Jågl-Kårl-Haus in Oberuresch Nr. 3 an. Der Hausname Jågl weist auf den Vorbesitzer Jakob Hinterberger hin. Vis a vis vom Jågl-Kårl-Haus sieht man die Dorfkapelle von Oberuresch mit dem markanten Turm. Vom Großbrand, welcher im Jahre 1912 die Häuser des gesamten Dorfes bis auf die Grundmauern einäscherte, blieb nur diese Dorfkapelle verschont. Ein herzliches Danke an Joachim Liedl, welcher laut dem markanten Turm der Dorfkapelle erkannte, dass es sich hier nicht um das Dorf Reiterschlag handelt, sondern um das Dorf Oberuresch. Er war auch beim Zuordnen der Häuser behilflich! Diese alte Bildaufnahme wurde vor vielen Jahren in einer Zeitschrift als Dorfansicht von Reiterschlag veröffentlicht, was nicht stimmt. ' owner='Franz Bertlwieser' year=1905\n",
      "=====LINK https://deutsch-reichenau.topothek.at/?doc=1416256 \n",
      "document_url=HttpUrl('https://deutsch-reichenau.topothek.at/?doc=1416256') document_id='1416256' url=HttpUrl('https://deutsch-reichenau.topothek.at/data/Deutsch_Reichenau428/files5665/file1416256.jpg') title='Familie Pomeißl vulgo Gai-Kårl vor ihrem Haus in Oberuresch Nr. 13 - Bildaufnahme im Jahre 1935' description='Familie Pomeißl vulgo Gai-Kårl vor ihrem Haus in Oberuresch Nr. 13. Karl Pomeißl wurde am 18. Jänner 1892 als Inwohnerssohn in Asang Nr. 23 geboren. Seine Eltern lebten als Inwohner am Holler-Haus in Asang Nr. 23. Sein Vater, Josef Pomeißl, wurde ebenfalls als Inwohnersohn in Obermarkschlag Nr. 8 geboren, wo dessen Vater, Johann Pomeißl, als Inwohner lebte. Die Mutter vom Gai-Kårl, Elisabeth, geb. Kurz, war eine Inwohnerstochter aus Ottenschlag Nr. 14. Karl Pomeißl ehelichte am 4. Juni 1919 Theresia Friedl, welche ebenfalls als Inwohnerin in Asang lebte. Sie wurde aber am 20. Juli 1890 als Inwohnerstochter in Obermarkschlag Nr. 18 geboren. Ihr Vater, Wenzel Friedl lebte dort mit seiner Familie als Inwohner und später in Asang. Dieser war aber ein weichender Häuslerssohn aus Asang Nr. 23. Seine Frau, Aloisia Pschandl war eine weichende Häuslerstochter aus St. Thoma Nr. 4. Karl und Theresia Pomeißl kauften von Georg Berger, vulgo Bergerbau das Anwesen in Oberuresch Nr. 13. Nach dem Tod seiner ersten beiden Frauen ehelichte Georg Berger im Jahre 1920 die Witwe Cäcilia Ehrlich, geb. Reiter in dritter Ehe. Cäcilia Ehrlich, geb. Reiter, vulgo Reider-Züli, geb. 1864, stammte vom Bauernhaus in Linden Nr. 1 ab. Durch ihre Verehelichung war sie Hausbesitzerin in Lichtenau Nr. 9. Darum verkaufte ihr Ehemann, Georg Berger, später sein Haus in Oberuresch Nr. 13 an die Gai-Kårl-Leute und lebte dann in Lichtenau Nr. 9. Es ist mir nun gelungen, diese schöne Bildaufnahme vom Gai-Kårl-Haus in Oberuresch Nr. 13 aufzutreiben. Diese wurde vor vielen Jahren per Mail an meinen Bruder Fritz Bertlwieser übermittelt. Wegen eines PC-Schadens konnte leider später auf dieses Bild nicht mehr zugegriffen werden. Trotz meiner schriftlichen Bemühungen ist es mir lange Zeit leider nicht gelungen, von den Nachkommen der Gai-Kårl-Leute dieses schöne Bildaufnahme aufzutreiben. Beim Heimattreffen 2023 erwähnte ich dies bei meiner Bilderreise vom Dorf Oberuresch. Da die Nachkommen von Tochter Gertrude in Sinsheim leben, hat sich Irmgard Mahlschnee, geb. 1958, Tochter von Josef Bayer (1934 - 1993), vulgo Haislrupertn-Seppl, aus Obermarkschlag Nr. 26 bereiterklärt, mit diesen Nachkommen in Kontakt zu treten. Sehr herzlichen Dank an die Nachkommen von Gertrude Jaksch, dass sie diese Bildaufnahme zur Verfügung gestellt haben. Auch Irmgard Mahlschnee ein sehr herzliches Dankeschön, dass sie den Kontakt zu dieser Familie aufgenommen hat, sowie meiner Cousine, Maria Burgemeister, welche mir das Bild vom Gaikårl-Haus per E-Mail übermittelt hat. Dadurch kann wieder ein Haus aus der Pfarre Deutsch Reichenau bei Friedberg bildlich in dieser Topothek festgehalten werden. Folgende Bildaufnahmen erinnern an die Gaikårl-Familie in Oberuresch Nr. 13: {742961}, {743176}, {826715}, {1010966}. Auch Gertrude Jaksch, vulgo Gaikårl-Gerti, wurde auf den beiden nachstehenden Fotos sehr schön bildlich festgehalten: {746817}, {746818} ' owner='Franz Bertlwieser' year=1935\n",
      "=====LINK https://deutsch-reichenau.topothek.at/?doc=739341 \n",
      "document_url=HttpUrl('https://deutsch-reichenau.topothek.at/?doc=739341') document_id='0739341' url=HttpUrl('https://deutsch-reichenau.topothek.at/data/Deutsch_Reichenau428/files2957/file739341.jpg') title='Blick auf die Urescher Kapelle - Sie wurde von der Familie Groiß (Maurer) im Jahre 1924 errichtet - Bildaufnahme im Jahre 1935' description='Blick auf die Urescher Kapelle - Sie wurde von der Familie Groiß (Maurer) im Jahre 1924 errichtet' owner='Franz Bertlwieser' year=1935\n",
      "=====LINK https://deutsch-reichenau.topothek.at/?doc=500606 \n",
      "document_url=HttpUrl('https://deutsch-reichenau.topothek.at/?doc=500606') document_id='0500606' url=HttpUrl('https://deutsch-reichenau.topothek.at/data/Deutsch_Reichenau428/files2002/file500606.jpg') title='Urescher Kapelle welche im Jahre 1924 im Auftrag der Familie Groiß vulgo Maurer errichtet wurde - Bildaufnahme im Juli 1941' description='Diese Kapelle im Urescher Wald wurde auf Grund eines Traumes von Anna Hofer, geb. Groiß, geb. 1903, im Jahre 1924 errichtet. Dechant Vinzenz Gross weihte die schöne Waldkapelle ein. Viele fromme Beter besuchten diesen Gnadenort und brachten ihre Bitten und Anliegen vor.' owner='Franz Bertlwieser' year=1941\n",
      "=====LINK https://deutsch-reichenau.topothek.at/?doc=739332 \n",
      "document_url=HttpUrl('https://deutsch-reichenau.topothek.at/?doc=739332') document_id='0739332' url=HttpUrl('https://deutsch-reichenau.topothek.at/data/Deutsch_Reichenau428/files2957/file739332.jpg') title='Einweihung der neu errichteten Urescher Kapelle im Jahre 1924 - Bildaufnahme im Jahre 1924' description='Die Einweihung der neu errichteten Urescher Kapelle nahm im Jahre 1924 der langjährige Seelsorger der Pfarre Deutsch Reichenau, Dechant Vinzenz Gross, vor. Aus der gesamten Pfarre und auch aus den österreichischen Nachbarorten nahm eine große Anzahl von Gläubigen daran teil. Besitzer der Urescher Kapelle war Familie Groiß, vulgo Maurer, aus Oberuresch Nr. 9.' owner='Franz Bertlwieser' year=1924\n",
      "=====LINK https://deutsch-reichenau.topothek.at/?doc=739311 \n",
      "document_url=HttpUrl('https://deutsch-reichenau.topothek.at/?doc=739311') document_id='0739311' url=HttpUrl('https://deutsch-reichenau.topothek.at/data/Deutsch_Reichenau428/files2957/file739311.jpg') title='Schneider Maria * 1930 und Schneider Gertrude * 1932 (Raimundnkårl-Menscha) vor der Urescher Kapelle - Bildaufnahme im Jahre 1936' description='Schneider Maria * 1930 und Schneider Gertrude * 1932 (Raimundnkårl-Menscha), aus Rosenau Nr. 20, vor der Urescher Kapelle. Über der Eingangstür stand außen folgender Spruch: ' owner='Franz Bertlwieser' year=1936\n",
      "=====LINK https://deutsch-reichenau.topothek.at/?doc=616754 \n",
      "document_url=HttpUrl('https://deutsch-reichenau.topothek.at/?doc=616754') document_id='0616754' url=HttpUrl('https://deutsch-reichenau.topothek.at/data/Deutsch_Reichenau428/files2467/file616754.jpg') title='Laher Aloisia (Wenderl-Loisi) *1888 Oberuresch 2 - nach der Vertreibung in Unterurasch 2 Lichtenau - Bildaufnahme um 1960' description='Aloisia Laher, vulgo Wenderl-Loisi (1888 - 1966) aus Oberuresch Nr. 2 (im Bild rechts) Sie lebte nach der Vertreibung bei den Verwandten ihres Mannes in Unterurasch Nr. 2, Gemeinde Lichtenau. Die Wenderl-Loisi ist hier mit den Verwandten beim Getreideeinführen abgebildet. Beim Abladen des Getreides wurden diese langen Gartgåbeln verwendet, mit denen man die Getreidegarben vom Leiterwagen nahm und in die Getreideös gab, bevor dieses gedroschen wurde. Die Zuordnung der Laher-Familie wurde auf Grund anderer Bildaufnahmen vorgenommen. ' owner='Franz Bertlwieser' year=1960\n"
     ]
    }
   ],
   "source": [
    "links = [\n",
    "    'https://deutsch-reichenau.topothek.at/?doc=742582',\n",
    "    'https://deutsch-reichenau.topothek.at/?doc=742432', \n",
    "    'https://deutsch-reichenau.topothek.at/?doc=741744',\n",
    "    'https://deutsch-reichenau.topothek.at/?doc=651318',\n",
    "    'https://deutsch-reichenau.topothek.at/?doc=523740',\n",
    "    'https://deutsch-reichenau.topothek.at/?doc=499826',\n",
    "    'https://deutsch-reichenau.topothek.at/?doc=1416256',\n",
    "    \n",
    "    #Waldkapelle Oberurasch:\n",
    "    'https://deutsch-reichenau.topothek.at/?doc=739341',\n",
    "    'https://deutsch-reichenau.topothek.at/?doc=500606', \n",
    "    'https://deutsch-reichenau.topothek.at/?doc=739332',\n",
    "    'https://deutsch-reichenau.topothek.at/?doc=739311',\n",
    "    \n",
    "    #Unterurasch:\n",
    "    'https://deutsch-reichenau.topothek.at/?doc=616754',\n",
    "]\n",
    "\n",
    "for link in links:\n",
    "    print(f\"=====LINK {link} \")\n",
    "    d = crawl_document(link)\n",
    "    print(d)"
   ]
  },
  {
   "cell_type": "code",
   "execution_count": null,
   "id": "9b4180b4-4da7-489d-b571-cbfb9a37863f",
   "metadata": {},
   "outputs": [],
   "source": [
    "driver = get_driver()"
   ]
  },
  {
   "cell_type": "code",
   "execution_count": null,
   "id": "c1e0cb0b-dfee-4acc-a941-30313223b98b",
   "metadata": {},
   "outputs": [],
   "source": [
    "from selenium.webdriver.common.by import By\n",
    "\n",
    "driver.get(url)"
   ]
  },
  {
   "cell_type": "code",
   "execution_count": null,
   "id": "76b9c564-734d-4fbc-b000-648653ae1df2",
   "metadata": {},
   "outputs": [],
   "source": [
    "driver.find_element(By.XPATH, '//tr[td[1][normalize-space(text())=\"Besitzer\"]]/td[2]/div').text"
   ]
  },
  {
   "cell_type": "code",
   "execution_count": 13,
   "id": "11e5804d-26a4-4908-a06c-b48eca4f125f",
   "metadata": {},
   "outputs": [],
   "source": [
    "t = \" bildaufnamehm um 1945\""
   ]
  },
  {
   "cell_type": "code",
   "execution_count": 16,
   "id": "2cc03511-dcde-47ef-8f95-299e29f85f4e",
   "metadata": {},
   "outputs": [
    {
     "data": {
      "text/plain": [
       "1945"
      ]
     },
     "execution_count": 16,
     "metadata": {},
     "output_type": "execute_result"
    }
   ],
   "source": [
    "    int(t.strip().split()[-1])"
   ]
  },
  {
   "cell_type": "code",
   "execution_count": 9,
   "id": "244a33a2-7aa3-4d6e-91e6-cb53591658e3",
   "metadata": {},
   "outputs": [
    {
     "data": {
      "text/plain": [
       "{'x': 3, 'y': 4, 'a': 5}"
      ]
     },
     "execution_count": 9,
     "metadata": {},
     "output_type": "execute_result"
    }
   ],
   "source": [
    "d = dict(x=3, y=4)\n",
    "f = dict(d, a=5)\n",
    "f"
   ]
  },
  {
   "cell_type": "code",
   "execution_count": null,
   "id": "c449d13e-a0a9-4b08-b312-d0967874e1b1",
   "metadata": {},
   "outputs": [],
   "source": []
  }
 ],
 "metadata": {
  "kernelspec": {
   "display_name": "Python 3 (ipykernel)",
   "language": "python",
   "name": "python3"
  },
  "language_info": {
   "codemirror_mode": {
    "name": "ipython",
    "version": 3
   },
   "file_extension": ".py",
   "mimetype": "text/x-python",
   "name": "python",
   "nbconvert_exporter": "python",
   "pygments_lexer": "ipython3",
   "version": "3.13.3"
  }
 },
 "nbformat": 4,
 "nbformat_minor": 5
}
