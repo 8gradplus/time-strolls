{
 "cells": [
  {
   "cell_type": "markdown",
   "id": "4890a11c-4dab-4916-a6f6-ebb17c2bd89d",
   "metadata": {},
   "source": [
    "### Parse Komoot tracks"
   ]
  },
  {
   "cell_type": "code",
   "execution_count": 17,
   "id": "feaf37a6-6387-42d8-ab8b-e600b2212bb3",
   "metadata": {},
   "outputs": [],
   "source": [
    "import gpxpy\n",
    "from shapely.geometry import LineString\n",
    "from swak.funcflow import Pipe\n",
    "import psycopg2"
   ]
  },
  {
   "cell_type": "code",
   "execution_count": 52,
   "id": "dc59d610-25d6-4a4b-bbfb-e82662ea4907",
   "metadata": {},
   "outputs": [],
   "source": [
    "# Load and parse GPX\n",
    "def load_gpx(path):\n",
    "    with open(path, \"r\") as f:\n",
    "        return gpxpy.parse(f)\n",
    "\n",
    "\n",
    "def extract_linestring(gpx: gpxpy.gpx.GPX):\n",
    "    points = []\n",
    "    for track in gpx.tracks:\n",
    "        for segment in track.segments:\n",
    "            for point in segment.points:\n",
    "                if point.elevation is not None:\n",
    "                    points.append((point.longitude, point.latitude, point.elevation))\n",
    "    return LineString(points) \n"
   ]
  },
  {
   "cell_type": "code",
   "execution_count": 72,
   "id": "931b6006-5697-4f92-bab8-93957168b92e",
   "metadata": {},
   "outputs": [],
   "source": [
    "l = Pipe(load_gpx, \n",
    "          #extract_linestring, \n",
    "          # The linestring object is really cool and allows for all kind of things\n",
    "          # Here we just want to put the wkt (well known text) into the postgres\n",
    "          #lambda l: l.wkt,\n",
    "         )(\"../../resources/gps/schwemmkanalweg_gross_komoot.gpx\")"
   ]
  },
  {
   "cell_type": "code",
   "execution_count": 77,
   "id": "51bebe12-074b-4974-8b45-746526fd903d",
   "metadata": {},
   "outputs": [
    {
     "data": {
      "text/plain": [
       "8.675665261136631"
      ]
     },
     "execution_count": 77,
     "metadata": {},
     "output_type": "execute_result"
    }
   ],
   "source": [
    "l.length_2d() / 1000"
   ]
  },
  {
   "cell_type": "code",
   "execution_count": null,
   "id": "4a3ee103-3714-4d68-aeea-11346eb8f501",
   "metadata": {},
   "outputs": [],
   "source": []
  }
 ],
 "metadata": {
  "kernelspec": {
   "display_name": "Python 3 (ipykernel)",
   "language": "python",
   "name": "python3"
  },
  "language_info": {
   "codemirror_mode": {
    "name": "ipython",
    "version": 3
   },
   "file_extension": ".py",
   "mimetype": "text/x-python",
   "name": "python",
   "nbconvert_exporter": "python",
   "pygments_lexer": "ipython3",
   "version": "3.13.3"
  }
 },
 "nbformat": 4,
 "nbformat_minor": 5
}
