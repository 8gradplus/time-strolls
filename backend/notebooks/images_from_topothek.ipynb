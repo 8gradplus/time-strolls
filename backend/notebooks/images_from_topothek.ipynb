{
 "cells": [
  {
   "cell_type": "code",
   "execution_count": 1,
   "id": "4b292150-92da-4662-9622-924aa328e34c",
   "metadata": {},
   "outputs": [],
   "source": [
    "import sys\n",
    "sys.path.append('..')\n",
    "from pydantic import BaseModel\n",
    "from typing import Optional, List\n",
    "from api.model.place import PlaceCreate\n",
    "from api.model.image import ImageCreate\n",
    "from api.model.podcast import PodcastCreate\n",
    "import requests\n",
    "%load_ext autoreload\n",
    "%autoreload 2"
   ]
  },
  {
   "cell_type": "markdown",
   "id": "5d33f3e8-30e3-40fa-964e-a966d3a495c1",
   "metadata": {},
   "source": [
    "# Resources: \n",
    "- https://www.znicenekostely.cz/objekt/detail/13352\n",
    "\n",
    "### Todo \n",
    "- find images from www.znicenekostely.cz that are originally from topothek:\n",
    "    - Sankt Thoma "
   ]
  },
  {
   "cell_type": "code",
   "execution_count": 2,
   "id": "b721c03a-a9fe-41e7-9045-ab377e5f59b7",
   "metadata": {},
   "outputs": [],
   "source": [
    "HOST = 'http://0.0.0.0:8000/api'\n",
    "\n",
    "class Topothek(BaseModel):\n",
    "    url: str \n",
    "\n",
    "class LocationCreate(BaseModel):\n",
    "    place: PlaceCreate\n",
    "    #podcast: Optional[PodcastCreate] = None\n",
    "    images: Optional[List[Topothek]] = []\n",
    "\n",
    "def post_location(location: LocationCreate):\n",
    "    r = requests.post(f'{HOST}/places', json=location.place.model_dump())\n",
    "    print(f'Create location {location.place.name}: {r.status_code}')\n",
    "    place_id = r.json().get('id')\n",
    "    for image in location.images: \n",
    "        r = requests.post(f'{HOST}/images/topothek/', json={'url':image.url, 'place_id':place_id})\n",
    "        print(f'Post image {image.url}: {r.status_code}')\n"
   ]
  },
  {
   "cell_type": "code",
   "execution_count": 6,
   "id": "c938dd97-a309-488a-82b2-d1bd4339d5fd",
   "metadata": {},
   "outputs": [],
   "source": [
    "unterurasch = LocationCreate(\n",
    "    place=PlaceCreate(name='Unterurasch', \n",
    "                      lat=48.61017854015886, \n",
    "                      lon=14.04406485511563\n",
    "                     ), \n",
    "    images=[\n",
    "        Topothek(url='https://lichtenau.topothek.at/?doc=840955'),\n",
    "        Topothek(url='https://lichtenau.topothek.at/?doc=564226'),\n",
    "        Topothek(url='https://lichtenau.topothek.at/?doc=546072'),\n",
    "        Topothek(url='https://lichtenau.topothek.at/?doc=546074'),\n",
    "        Topothek(url='https://lichtenau.topothek.at/?doc=546065'),\n",
    "        Topothek(url='https://lichtenau.topothek.at/?doc=430410'),\n",
    "        Topothek(url='https://deutsch-reichenau.topothek.at/?doc=616754')\n",
    "    ]\n",
    "    # Todo add sample podcast\n",
    ")\n",
    "\n",
    "oberuresch_chapel = LocationCreate(\n",
    "    place=PlaceCreate(name='Dorfkapelle Oberuresch', \n",
    "                      type='Chapel', \n",
    "                      lat=48.6113, \n",
    "                      lon=14.06166\n",
    "                     ),\n",
    "    images=[\n",
    "        Topothek(url='https://deutsch-reichenau.topothek.at/?doc=739341'),\n",
    "        Topothek(url='https://deutsch-reichenau.topothek.at/?doc=500606'), \n",
    "        Topothek(url='https://deutsch-reichenau.topothek.at/?doc=739332'),\n",
    "        Topothek(url='https://deutsch-reichenau.topothek.at/?doc=739311'),\n",
    "    ]\n",
    ")\n",
    "\n",
    "oberuresch = LocationCreate(\n",
    "    place=PlaceCreate(name='Oberuresch', \n",
    "                      lat=48.609008, \n",
    "                      lon=14.056219\n",
    "                     ),\n",
    "    images=[\n",
    "        Topothek(url='https://deutsch-reichenau.topothek.at/?doc=742582'),\n",
    "        Topothek(url='https://deutsch-reichenau.topothek.at/?doc=742432'), \n",
    "        Topothek(url='https://deutsch-reichenau.topothek.at/?doc=741744'),\n",
    "        Topothek(url='https://deutsch-reichenau.topothek.at/?doc=651318'),\n",
    "        Topothek(url='https://deutsch-reichenau.topothek.at/?doc=523740'),\n",
    "        Topothek(url='https://deutsch-reichenau.topothek.at/?doc=499826'),\n",
    "        Topothek(url='https://deutsch-reichenau.topothek.at/?doc=1416256'), \n",
    "        Topothek(url='https://deutsch-reichenau.topothek.at/?doc=1105447'),\n",
    "        Topothek(url='https://deutsch-reichenau.topothek.at/?doc=747993'),\n",
    "        Topothek(url='https://deutsch-reichenau.topothek.at/?doc=747998')\n",
    "    ]\n",
    "    \n",
    ")\n",
    "\n",
    "muckenschlag = LocationCreate(\n",
    "    place=PlaceCreate(name='Muckenschlag', \n",
    "                      lat=48.614446, \n",
    "                      lon=14.044865)\n",
    ")\n",
    "\n",
    "sankt_thoma = LocationCreate(\n",
    "    place=PlaceCreate(name='Sankt Thoma', \n",
    "                      lat=48.6412870685, \n",
    "                      lon=14.105554802)\n",
    ")\n"
   ]
  },
  {
   "cell_type": "code",
   "execution_count": 29,
   "id": "c449d13e-a0a9-4b08-b312-d0967874e1b1",
   "metadata": {},
   "outputs": [
    {
     "name": "stdout",
     "output_type": "stream",
     "text": [
      "Create location Unterurasch: 200\n",
      "Post image https://lichtenau.topothek.at/?doc=840955: 200\n",
      "Post image https://lichtenau.topothek.at/?doc=564226: 200\n",
      "Post image https://lichtenau.topothek.at/?doc=546072: 200\n",
      "Post image https://lichtenau.topothek.at/?doc=546074: 200\n",
      "Post image https://lichtenau.topothek.at/?doc=546065: 200\n",
      "Post image https://lichtenau.topothek.at/?doc=430410: 200\n",
      "Post image https://deutsch-reichenau.topothek.at/?doc=616754: 200\n",
      "Create location Oberuresch: 200\n",
      "Post image https://deutsch-reichenau.topothek.at/?doc=742582: 200\n",
      "Post image https://deutsch-reichenau.topothek.at/?doc=742432: 200\n",
      "Post image https://deutsch-reichenau.topothek.at/?doc=741744: 200\n",
      "Post image https://deutsch-reichenau.topothek.at/?doc=651318: 200\n",
      "Post image https://deutsch-reichenau.topothek.at/?doc=523740: 200\n",
      "Post image https://deutsch-reichenau.topothek.at/?doc=499826: 200\n",
      "Post image https://deutsch-reichenau.topothek.at/?doc=1416256: 200\n",
      "Post image https://deutsch-reichenau.topothek.at/?doc=1105447: 200\n",
      "Post image https://deutsch-reichenau.topothek.at/?doc=747993: 200\n",
      "Post image https://deutsch-reichenau.topothek.at/?doc=747998: 200\n",
      "Create location Dorfkapelle Oberuresch: 200\n",
      "Post image https://deutsch-reichenau.topothek.at/?doc=739341: 200\n",
      "Post image https://deutsch-reichenau.topothek.at/?doc=500606: 200\n",
      "Post image https://deutsch-reichenau.topothek.at/?doc=739332: 200\n",
      "Post image https://deutsch-reichenau.topothek.at/?doc=739311: 200\n",
      "Create location Muckenschlag: 200\n",
      "Create location Sankt Thoma: 200\n"
     ]
    }
   ],
   "source": [
    "\n",
    "locations = [unterurasch, oberuresch, oberuresch_chapel, muckenschlag, sankt_thoma]\n",
    "for location in locations: \n",
    "    post_location(location)\n"
   ]
  },
  {
   "cell_type": "code",
   "execution_count": 28,
   "id": "e69840a5-4879-48d2-9fa0-b9af2d2bc1aa",
   "metadata": {},
   "outputs": [
    {
     "name": "stdout",
     "output_type": "stream",
     "text": [
      "Create location Unterurasch: 200\n",
      "Post image https://lichtenau.topothek.at/?doc=840955: 200\n",
      "Post image https://lichtenau.topothek.at/?doc=564226: 200\n",
      "Post image https://lichtenau.topothek.at/?doc=546072: 200\n",
      "Post image https://lichtenau.topothek.at/?doc=546074: 200\n",
      "Post image https://lichtenau.topothek.at/?doc=546065: 200\n",
      "Post image https://lichtenau.topothek.at/?doc=430410: 200\n",
      "Post image https://deutsch-reichenau.topothek.at/?doc=616754: 200\n",
      "CPU times: user 14.4 ms, sys: 5.13 ms, total: 19.5 ms\n",
      "Wall time: 2.8 s\n"
     ]
    }
   ],
   "source": [
    "%%time\n",
    "\n",
    "post_location(unterurasch)"
   ]
  },
  {
   "cell_type": "code",
   "execution_count": 16,
   "id": "1200eeef-b043-4c89-aefc-e3cd8ce62be0",
   "metadata": {},
   "outputs": [],
   "source": [
    "from topothek.crawl import crawl_document"
   ]
  },
  {
   "cell_type": "code",
   "execution_count": 18,
   "id": "0fc62926-e732-44b1-982e-0f061462dff7",
   "metadata": {},
   "outputs": [
    {
     "ename": "ValueError",
     "evalue": "invalid literal for int() with base 10: 'bekannt'",
     "output_type": "error",
     "traceback": [
      "\u001b[31m---------------------------------------------------------------------------\u001b[39m",
      "\u001b[31mValueError\u001b[39m                                Traceback (most recent call last)",
      "\u001b[36mCell\u001b[39m\u001b[36m \u001b[39m\u001b[32mIn[18]\u001b[39m\u001b[32m, line 3\u001b[39m\n\u001b[32m      1\u001b[39m url_broken = \u001b[33m'\u001b[39m\u001b[33mhttps://lichtenau.topothek.at/?doc=564226\u001b[39m\u001b[33m'\u001b[39m\n\u001b[32m      2\u001b[39m url_broken = \u001b[33m'\u001b[39m\u001b[33mhttps://lichtenau.topothek.at/?doc=430410\u001b[39m\u001b[33m'\u001b[39m\n\u001b[32m----> \u001b[39m\u001b[32m3\u001b[39m \u001b[43mcrawl_document\u001b[49m\u001b[43m(\u001b[49m\u001b[43murl_broken\u001b[49m\u001b[43m)\u001b[49m\n",
      "\u001b[36mFile \u001b[39m\u001b[32m~/Work/8gradplus/time-strolls/backend/notebooks/../topothek/crawl.py:53\u001b[39m, in \u001b[36mcrawl_document\u001b[39m\u001b[34m(url)\u001b[39m\n\u001b[32m     44\u001b[39m     logger.error(\u001b[33mf\u001b[39m\u001b[33m\"\u001b[39m\u001b[33mBad request to Topothek Ajax call \u001b[39m\u001b[38;5;132;01m{\u001b[39;00mstatus\u001b[38;5;132;01m}\u001b[39;00m\u001b[33m for requested \u001b[39m\u001b[38;5;132;01m{\u001b[39;00murl\u001b[38;5;132;01m}\u001b[39;00m\u001b[33m\"\u001b[39m)\n\u001b[32m     45\u001b[39m ajax = resp_ajax.json()\n\u001b[32m     46\u001b[39m result = Image(\n\u001b[32m     47\u001b[39m         source_url=url,\n\u001b[32m     48\u001b[39m         source_id=ajax.get(\u001b[33m'\u001b[39m\u001b[33mid\u001b[39m\u001b[33m'\u001b[39m),\n\u001b[32m     49\u001b[39m         url=get_property(soup, \u001b[33m'\u001b[39m\u001b[33mimage\u001b[39m\u001b[33m'\u001b[39m),\n\u001b[32m     50\u001b[39m         title=ajax.get(\u001b[33m'\u001b[39m\u001b[33mdetail\u001b[39m\u001b[33m'\u001b[39m).get(\u001b[33m'\u001b[39m\u001b[33mName\u001b[39m\u001b[33m'\u001b[39m),\n\u001b[32m     51\u001b[39m         description=get_property(soup, \u001b[33m'\u001b[39m\u001b[33mdescription\u001b[39m\u001b[33m'\u001b[39m),\n\u001b[32m     52\u001b[39m         owner=ajax.get(\u001b[33m'\u001b[39m\u001b[33mdetail\u001b[39m\u001b[33m'\u001b[39m).get(\u001b[33m'\u001b[39m\u001b[33mBesitzer\u001b[39m\u001b[33m'\u001b[39m),\n\u001b[32m---> \u001b[39m\u001b[32m53\u001b[39m         year=\u001b[38;5;28;43mint\u001b[39;49m\u001b[43m(\u001b[49m\u001b[43majax\u001b[49m\u001b[43m.\u001b[49m\u001b[43mget\u001b[49m\u001b[43m(\u001b[49m\u001b[33;43m'\u001b[39;49m\u001b[33;43mdetail\u001b[39;49m\u001b[33;43m'\u001b[39;49m\u001b[43m)\u001b[49m\u001b[43m.\u001b[49m\u001b[43mget\u001b[49m\u001b[43m(\u001b[49m\u001b[33;43m'\u001b[39;49m\u001b[33;43mDatum\u001b[39;49m\u001b[33;43m'\u001b[39;49m\u001b[43m)\u001b[49m\u001b[43m.\u001b[49m\u001b[43mstrip\u001b[49m\u001b[43m(\u001b[49m\u001b[43m)\u001b[49m\u001b[43m.\u001b[49m\u001b[43msplit\u001b[49m\u001b[43m(\u001b[49m\u001b[43m)\u001b[49m\u001b[43m[\u001b[49m\u001b[43m-\u001b[49m\u001b[32;43m1\u001b[39;49m\u001b[43m]\u001b[49m\u001b[43m)\u001b[49m\n\u001b[32m     54\u001b[39m     )\n\u001b[32m     56\u001b[39m \u001b[38;5;28mprint\u001b[39m(result)\n\u001b[32m     57\u001b[39m \u001b[38;5;28;01mreturn\u001b[39;00m result\n",
      "\u001b[31mValueError\u001b[39m: invalid literal for int() with base 10: 'bekannt'"
     ]
    }
   ],
   "source": [
    "url_broken = 'https://lichtenau.topothek.at/?doc=564226'\n",
    "url_broken = 'https://lichtenau.topothek.at/?doc=430410'\n",
    "crawl_document(url_broken)"
   ]
  },
  {
   "cell_type": "code",
   "execution_count": 25,
   "id": "aaa76470-a0a8-4fe7-a504-a13b93743489",
   "metadata": {},
   "outputs": [],
   "source": []
  },
  {
   "cell_type": "code",
   "execution_count": 27,
   "id": "464a5108-45f2-499c-b6f2-d5996af5dd23",
   "metadata": {},
   "outputs": [
    {
     "data": {
      "text/plain": [
       "1945"
      ]
     },
     "execution_count": 27,
     "metadata": {},
     "output_type": "execute_result"
    }
   ],
   "source": [
    "text = '1945'\n",
    "extract_year(text)"
   ]
  },
  {
   "cell_type": "code",
   "execution_count": null,
   "id": "99721450-8cf3-4b9e-80d6-fcc2d9f8b1d2",
   "metadata": {},
   "outputs": [],
   "source": []
  }
 ],
 "metadata": {
  "kernelspec": {
   "display_name": "Python 3 (ipykernel)",
   "language": "python",
   "name": "python3"
  },
  "language_info": {
   "codemirror_mode": {
    "name": "ipython",
    "version": 3
   },
   "file_extension": ".py",
   "mimetype": "text/x-python",
   "name": "python",
   "nbconvert_exporter": "python",
   "pygments_lexer": "ipython3",
   "version": "3.13.3"
  }
 },
 "nbformat": 4,
 "nbformat_minor": 5
}
