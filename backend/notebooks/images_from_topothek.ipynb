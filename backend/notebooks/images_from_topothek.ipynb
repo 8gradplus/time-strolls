{
 "cells": [
  {
   "cell_type": "code",
   "execution_count": 1,
   "id": "4b292150-92da-4662-9622-924aa328e34c",
   "metadata": {},
   "outputs": [],
   "source": [
    "import sys\n",
    "sys.path.append('..')\n",
    "from pydantic import BaseModel\n",
    "from typing import Optional, List\n",
    "from api.model.place import PlaceCreate\n",
    "from api.model.image import ImageCreate\n",
    "from api.model.podcast import PodcastCreate\n",
    "import requests\n",
    "%load_ext autoreload\n",
    "%autoreload 2"
   ]
  },
  {
   "cell_type": "markdown",
   "id": "5d33f3e8-30e3-40fa-964e-a966d3a495c1",
   "metadata": {},
   "source": [
    "# Resources: \n",
    "- https://www.znicenekostely.cz/objekt/detail/13352\n",
    "\n",
    "### Todo \n",
    "- find images from www.znicenekostely.cz that are originally from topothek:\n",
    "    - Sankt Thoma "
   ]
  },
  {
   "cell_type": "code",
   "execution_count": 2,
   "id": "b721c03a-a9fe-41e7-9045-ab377e5f59b7",
   "metadata": {},
   "outputs": [],
   "source": [
    "HOST = 'http://0.0.0.0:8000/api'\n",
    "\n",
    "class Topothek(BaseModel):\n",
    "    url: str \n",
    "\n",
    "class LocationCreate(BaseModel):\n",
    "    place: PlaceCreate\n",
    "    #podcast: Optional[PodcastCreate] = None\n",
    "    images: Optional[List[Topothek]] = []\n",
    "\n",
    "def post_location(location: LocationCreate):\n",
    "    r = requests.post(f'{HOST}/places', json=location.place.model_dump())\n",
    "    print(f'Create location {location.place.name}: {r.status_code}')\n",
    "    place_id = r.json().get('id')\n",
    "    for image in location.images: \n",
    "        r = requests.post(f'{HOST}/images/topothek/', json={'url':image.url, 'place_id':place_id})\n",
    "        print(f'Post image {image.url}: {r.status_code}')\n"
   ]
  },
  {
   "cell_type": "code",
   "execution_count": 15,
   "id": "c938dd97-a309-488a-82b2-d1bd4339d5fd",
   "metadata": {},
   "outputs": [],
   "source": [
    "unterurasch = LocationCreate(\n",
    "    place=PlaceCreate(name='Unterurasch', \n",
    "                      lat=48.61017854015886, \n",
    "                      lon=14.04406485511563\n",
    "                     ), \n",
    "    images=[\n",
    "        Topothek(url='https://lichtenau.topothek.at/?doc=840955'),\n",
    "        Topothek(url='https://lichtenau.topothek.at/?doc=564226'),\n",
    "        Topothek(url='https://lichtenau.topothek.at/?doc=546072'),\n",
    "        Topothek(url='https://lichtenau.topothek.at/?doc=546074'),\n",
    "        Topothek(url='https://lichtenau.topothek.at/?doc=546065'),\n",
    "        Topothek(url='https://lichtenau.topothek.at/?doc=430410'),\n",
    "        Topothek(url='https://deutsch-reichenau.topothek.at/?doc=616754')\n",
    "    ]\n",
    "    # Todo add sample podcast\n",
    ")\n",
    "\n",
    "oberuresch_chapel = LocationCreate(\n",
    "    place=PlaceCreate(name='Dorfkapelle Oberuresch', \n",
    "                      type='Chapel', \n",
    "                      lat=48.6113, \n",
    "                      lon=14.06166\n",
    "                     ),\n",
    "    images=[\n",
    "        Topothek(url='https://deutsch-reichenau.topothek.at/?doc=739341'),\n",
    "        Topothek(url='https://deutsch-reichenau.topothek.at/?doc=500606'), \n",
    "        Topothek(url='https://deutsch-reichenau.topothek.at/?doc=739332'),\n",
    "        Topothek(url='https://deutsch-reichenau.topothek.at/?doc=739311'),\n",
    "    ]\n",
    ")\n",
    "\n",
    "oberuresch = LocationCreate(\n",
    "    place=PlaceCreate(name='Oberuresch', \n",
    "                      lat=48.609008, \n",
    "                      lon=14.056219\n",
    "                     ),\n",
    "    images=[\n",
    "        Topothek(url='https://deutsch-reichenau.topothek.at/?doc=742582'),\n",
    "        Topothek(url='https://deutsch-reichenau.topothek.at/?doc=742432'), \n",
    "        Topothek(url='https://deutsch-reichenau.topothek.at/?doc=741744'),\n",
    "        Topothek(url='https://deutsch-reichenau.topothek.at/?doc=651318'),\n",
    "        Topothek(url='https://deutsch-reichenau.topothek.at/?doc=523740'),\n",
    "        Topothek(url='https://deutsch-reichenau.topothek.at/?doc=499826'),\n",
    "        Topothek(url='https://deutsch-reichenau.topothek.at/?doc=1416256'), \n",
    "        Topothek(url='https://deutsch-reichenau.topothek.at/?doc=1105447'),\n",
    "        Topothek(url='https://deutsch-reichenau.topothek.at/?doc=747993'),\n",
    "        Topothek(url='https://deutsch-reichenau.topothek.at/?doc=747998')\n",
    "    ]\n",
    "    \n",
    ")\n",
    "\n",
    "muckenschlag = LocationCreate(\n",
    "    place=PlaceCreate(name='Muckenschlag', \n",
    "                      lat=48.614446, \n",
    "                      lon=14.044865)\n",
    ")\n",
    "\n",
    "sankt_thoma = LocationCreate(\n",
    "    place=PlaceCreate(name='Sankt Thoma', \n",
    "                      lat=48.6412870685, \n",
    "                      lon=14.105554802)\n",
    ")\n",
    "\n",
    "\n"
   ]
  },
  {
   "cell_type": "code",
   "execution_count": 13,
   "id": "c449d13e-a0a9-4b08-b312-d0967874e1b1",
   "metadata": {},
   "outputs": [
    {
     "data": {
      "text/plain": [
       "'\\nlocations = [unterurasch, oberuresch, oberuresch_chapel, muckenschlag, sankt_thoma]\\nfor location in locations: \\n    post_location(location)\\n'"
      ]
     },
     "execution_count": 13,
     "metadata": {},
     "output_type": "execute_result"
    }
   ],
   "source": [
    "\"\"\"\n",
    "locations = [unterurasch, oberuresch, oberuresch_chapel, muckenschlag, sankt_thoma]\n",
    "for location in locations: \n",
    "    post_location(location)\n",
    "\"\"\""
   ]
  },
  {
   "cell_type": "code",
   "execution_count": 18,
   "id": "e69840a5-4879-48d2-9fa0-b9af2d2bc1aa",
   "metadata": {},
   "outputs": [
    {
     "name": "stdout",
     "output_type": "stream",
     "text": [
      "Create location Oberuresch: 200\n",
      "Post image https://www.walchshoferschorsch.com: 500\n",
      "Post image https://deutsch-reichenau.topothek.at/?doc=742582: 500\n",
      "Post image https://deutsch-reichenau.topothek.at/?doc=742432: 500\n",
      "Post image https://deutsch-reichenau.topothek.at/?doc=741744: 500\n",
      "Post image https://deutsch-reichenau.topothek.at/?doc=651318: 500\n",
      "Post image https://deutsch-reichenau.topothek.at/?doc=523740: 500\n",
      "Post image https://deutsch-reichenau.topothek.at/?doc=499826: 500\n",
      "Post image https://deutsch-reichenau.topothek.at/?doc=1416256: 500\n",
      "Post image https://deutsch-reichenau.topothek.at/?doc=1105447: 500\n",
      "Post image https://deutsch-reichenau.topothek.at/?doc=747993: 500\n",
      "Post image https://deutsch-reichenau.topothek.at/?doc=747998: 500\n"
     ]
    }
   ],
   "source": [
    "post_location(oberuresch)"
   ]
  },
  {
   "cell_type": "code",
   "execution_count": null,
   "id": "103d9c2a-b32f-45b0-b0fa-ba0780652669",
   "metadata": {},
   "outputs": [],
   "source": []
  }
 ],
 "metadata": {
  "kernelspec": {
   "display_name": "Python 3 (ipykernel)",
   "language": "python",
   "name": "python3"
  },
  "language_info": {
   "codemirror_mode": {
    "name": "ipython",
    "version": 3
   },
   "file_extension": ".py",
   "mimetype": "text/x-python",
   "name": "python",
   "nbconvert_exporter": "python",
   "pygments_lexer": "ipython3",
   "version": "3.13.3"
  }
 },
 "nbformat": 4,
 "nbformat_minor": 5
}
